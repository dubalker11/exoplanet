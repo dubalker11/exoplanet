{
  "nbformat": 4,
  "nbformat_minor": 0,
  "metadata": {
    "colab": {
      "provenance": []
    },
    "kernelspec": {
      "name": "python3",
      "display_name": "Python 3"
    },
    "language_info": {
      "name": "python"
    }
  },
  "cells": [
    {
      "cell_type": "code",
      "execution_count": 1,
      "metadata": {
        "id": "E3tC6-EaAaQ0"
      },
      "outputs": [],
      "source": [
        "import astropy.units as u #import required packages\n",
        "import numpy as np\n",
        "import astropy.constants as ac"
      ]
    },
    {
      "cell_type": "markdown",
      "source": [
        "We are calculating the duration of an Earth transiting the Sun, t = d / v, where d is the diameter and v is the orbital velocity of the Earth"
      ],
      "metadata": {
        "id": "SEtkI1yYAuMb"
      }
    },
    {
      "cell_type": "code",
      "source": [
        "d = 2 * u.solRad #diameter"
      ],
      "metadata": {
        "id": "IWAe8pzjA_Ey"
      },
      "execution_count": 4,
      "outputs": []
    },
    {
      "cell_type": "code",
      "source": [
        "a = 1 * u.AU #constant\n",
        "v = np.sqrt(ac.G * u.solMass / a) #orbital velocity\n",
        "print(v.to(u.m / u.s)) #convert to m/s"
      ],
      "metadata": {
        "colab": {
          "base_uri": "https://localhost:8080/"
        },
        "id": "Ofl1IM54BCcz",
        "outputId": "3aa5a55b-4602-47ba-b740-3bbc55a33bde"
      },
      "execution_count": 7,
      "outputs": [
        {
          "output_type": "stream",
          "name": "stdout",
          "text": [
            "29784.691829676933 m / s\n"
          ]
        }
      ]
    },
    {
      "cell_type": "code",
      "source": [
        "t = d / v\n",
        "print(t.to(u.hour)) #duration of an earth transiting the sun in hours"
      ],
      "metadata": {
        "colab": {
          "base_uri": "https://localhost:8080/"
        },
        "id": "YPLhKlO3BSsO",
        "outputId": "47d330d7-2668-42e2-8601-8cd99ddc5d11"
      },
      "execution_count": 8,
      "outputs": [
        {
          "output_type": "stream",
          "name": "stdout",
          "text": [
            "12.976464628547822 h\n"
          ]
        }
      ]
    },
    {
      "cell_type": "markdown",
      "source": [
        "How much a flux dip for a Jupiter transiting a Sun-like star? $\\delta = (\\frac{R_p}{R_s})^2$"
      ],
      "metadata": {
        "id": "Yy3q3n9mBaDA"
      }
    },
    {
      "cell_type": "code",
      "source": [
        "delta = (u.jupiterRad / u.solRad)**2\n",
        "print(\"The transit depth = \", delta.decompose())"
      ],
      "metadata": {
        "colab": {
          "base_uri": "https://localhost:8080/"
        },
        "id": "2MIW-8y7Bp9t",
        "outputId": "d4e13cf9-9088-4570-e263-f0a5426c05cb"
      },
      "execution_count": 9,
      "outputs": [
        {
          "output_type": "stream",
          "name": "stdout",
          "text": [
            "The transit depth =  0.0105602\n"
          ]
        }
      ]
    },
    {
      "cell_type": "code",
      "source": [
        "a = 5 * u.AU #constant\n",
        "v_Jupiter = np.sqrt(ac.G * u.solMass / a) #orbital velocity of jupiter\n",
        "print(v_Jupiter.to(u.m / u.s)) #convert to m/s"
      ],
      "metadata": {
        "colab": {
          "base_uri": "https://localhost:8080/"
        },
        "id": "daoU5FXHB_Wp",
        "outputId": "9460910f-e1d2-4536-b59f-2d2dc979f084"
      },
      "execution_count": 10,
      "outputs": [
        {
          "output_type": "stream",
          "name": "stdout",
          "text": [
            "13320.119124008042 m / s\n"
          ]
        }
      ]
    },
    {
      "cell_type": "code",
      "source": [
        "t_Jupiter = d / v_Jupiter\n",
        "print(t_Jupiter.to(u.hour)) #duration of a jupiter transiting the sun in hours"
      ],
      "metadata": {
        "colab": {
          "base_uri": "https://localhost:8080/"
        },
        "id": "AGOtVp22CNF4",
        "outputId": "6082d1e5-6367-4133-cac2-7a7d99bcd958"
      },
      "execution_count": 11,
      "outputs": [
        {
          "output_type": "stream",
          "name": "stdout",
          "text": [
            "29.01625701705449 h\n"
          ]
        }
      ]
    },
    {
      "cell_type": "code",
      "source": [
        "v_earth = 30 * u.km / u.s\n",
        "v_sun = (u.earthMass / u.solMass) * v_earth\n",
        "print(v_sun.to(u.m / u.s)) #suns wobbling due to earth"
      ],
      "metadata": {
        "colab": {
          "base_uri": "https://localhost:8080/"
        },
        "id": "Efw15CbaCV1s",
        "outputId": "56696bcd-a8cf-46f0-f3e0-f51383e3d57b"
      },
      "execution_count": 12,
      "outputs": [
        {
          "output_type": "stream",
          "name": "stdout",
          "text": [
            "0.09010468046552379 m / s\n"
          ]
        }
      ]
    },
    {
      "cell_type": "code",
      "source": [
        "v_sun_Jupiter = (u.jupiterMass / u.solMass) * v_Jupiter\n",
        "print(v_sun_Jupiter.to(u.m / u.s)) #suns wobbling due to jupiter"
      ],
      "metadata": {
        "colab": {
          "base_uri": "https://localhost:8080/"
        },
        "id": "5F2FgeYqCnWG",
        "outputId": "e323cf3d-1516-48cf-c8aa-60552bd41c3d"
      },
      "execution_count": 13,
      "outputs": [
        {
          "output_type": "stream",
          "name": "stdout",
          "text": [
            "12.715308911562614 m / s\n"
          ]
        }
      ]
    }
  ]
}